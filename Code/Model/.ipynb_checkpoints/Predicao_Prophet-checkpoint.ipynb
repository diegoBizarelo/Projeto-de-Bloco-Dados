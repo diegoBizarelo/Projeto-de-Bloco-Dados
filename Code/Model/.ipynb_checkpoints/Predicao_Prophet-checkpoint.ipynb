{
 "cells": [
  {
   "cell_type": "code",
   "execution_count": null,
   "metadata": {
    "id": "7mez4b3W_Q67"
   },
   "outputs": [],
   "source": [
    "#Importação das Bibliotecas\n",
    "import pandas as pd\n",
    "import seaborn as sns\n",
    "import matplotlib.pyplot as plt\n",
    "from datetime import datetime\n",
    "import numpy as np\n",
    "from fbprophet import Prophet\n",
    "from pathlib import Path"
   ]
  },
  {
   "cell_type": "markdown",
   "metadata": {
    "id": "s7c6UWWZ0F5N"
   },
   "source": [
    "#Leitura dos Dados"
   ]
  },
  {
   "cell_type": "code",
   "execution_count": null,
   "metadata": {
    "id": "Nv_-FUxG0Rsi"
   },
   "outputs": [],
   "source": [
    "FILE_PATH = Path(\"../../Data/Processed/energy_comsuption.csv\")"
   ]
  },
  {
   "cell_type": "code",
   "execution_count": null,
   "metadata": {
    "colab": {
     "base_uri": "https://localhost:8080/",
     "height": 328
    },
    "id": "URA4JW2J_cWH",
    "outputId": "f07cd4bd-79ea-4368-8d69-432f57124154"
   },
   "outputs": [],
   "source": [
    "df = pd.read_csv(FILE_PATH)"
   ]
  },
  {
   "cell_type": "markdown",
   "metadata": {
    "id": "27XWhDw10jfk"
   },
   "source": [
    "##Conversão das datas para formato Date"
   ]
  },
  {
   "cell_type": "code",
   "execution_count": null,
   "metadata": {
    "id": "SSdI0_PE_msy"
   },
   "outputs": [],
   "source": [
    "df.DATE = pd.to_datetime(df.DATE)"
   ]
  },
  {
   "cell_type": "markdown",
   "metadata": {
    "id": "4WP5o0Tb1ILk"
   },
   "source": [
    "#Ajuste do dataframe para a biblioteca Prophet"
   ]
  },
  {
   "cell_type": "code",
   "execution_count": null,
   "metadata": {
    "id": "sk_jXVBz_pB5"
   },
   "outputs": [],
   "source": [
    "dfc = pd.DataFrame({'ds': df['DATE'], 'y': df['COMSUPTION_KWH'].tolist()})"
   ]
  },
  {
   "cell_type": "markdown",
   "metadata": {
    "id": "Y5jF14nl00G0"
   },
   "source": [
    "#Separação em treino e teste"
   ]
  },
  {
   "cell_type": "code",
   "execution_count": null,
   "metadata": {
    "id": "2vs4UFLF_st_"
   },
   "outputs": [],
   "source": [
    "treino = dfc.loc[(dfc.ds < '2018-07-01')]\n",
    "teste = dfc.loc[(dfc.ds >= '2018-07-01')]"
   ]
  },
  {
   "cell_type": "markdown",
   "metadata": {
    "id": "4SnewubI1Llz"
   },
   "source": [
    "#Isntância do modelo e predição"
   ]
  },
  {
   "cell_type": "code",
   "execution_count": null,
   "metadata": {
    "id": "1el7EKzM_z-H"
   },
   "outputs": [],
   "source": [
    "model = Prophet(yearly_seasonality=4, seasonality_mode=\"multiplicative\")"
   ]
  },
  {
   "cell_type": "code",
   "execution_count": null,
   "metadata": {
    "colab": {
     "base_uri": "https://localhost:8080/"
    },
    "id": "LHtA4yPa_2B3",
    "outputId": "e735cc57-fe69-4401-a3eb-82c8286d0e58"
   },
   "outputs": [],
   "source": [
    "model.fit(treino)"
   ]
  },
  {
   "cell_type": "code",
   "execution_count": null,
   "metadata": {
    "id": "mkwkHDWU_3P_"
   },
   "outputs": [],
   "source": [
    "periodos = dfc.shape[0] - treino.shape[0]"
   ]
  },
  {
   "cell_type": "code",
   "execution_count": null,
   "metadata": {
    "id": "J5_1iFBd_4u3"
   },
   "outputs": [],
   "source": [
    "futuro = model.make_future_dataframe(periods=periodos, freq=\"D\")"
   ]
  },
  {
   "cell_type": "code",
   "execution_count": null,
   "metadata": {
    "id": "n7tArnye_6In"
   },
   "outputs": [],
   "source": [
    "forecast = model.predict(futuro)"
   ]
  },
  {
   "cell_type": "code",
   "execution_count": null,
   "metadata": {
    "colab": {
     "base_uri": "https://localhost:8080/",
     "height": 356
    },
    "id": "Xob5WDhS_7rE",
    "outputId": "09140dbb-07c2-46b6-8c2b-1f5cfa77ad70"
   },
   "outputs": [],
   "source": [
    "fig, ax= plt.subplots(1, 1, figsize=(20, 6))\n",
    "sns.set_style(\"ticks\")\n",
    "sns.set_context(\"talk\")\n",
    "\n",
    "model.plot(forecast, ax=ax);"
   ]
  },
  {
   "cell_type": "markdown",
   "metadata": {
    "id": "476RAioA1aHa"
   },
   "source": []
  }
 ],
 "metadata": {
  "colab": {
   "collapsed_sections": [],
   "name": "Predicao Prophet.ipynb",
   "provenance": []
  },
  "kernelspec": {
   "display_name": "Python 3",
   "language": "python",
   "name": "python3"
  },
  "language_info": {
   "codemirror_mode": {
    "name": "ipython",
    "version": 3
   },
   "file_extension": ".py",
   "mimetype": "text/x-python",
   "name": "python",
   "nbconvert_exporter": "python",
   "pygments_lexer": "ipython3",
   "version": "3.8.8"
  }
 },
 "nbformat": 4,
 "nbformat_minor": 1
}
