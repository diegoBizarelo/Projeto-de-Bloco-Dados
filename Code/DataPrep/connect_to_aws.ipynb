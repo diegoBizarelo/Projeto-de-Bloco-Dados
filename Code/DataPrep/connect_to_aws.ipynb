{
 "cells": [
  {
   "cell_type": "code",
   "execution_count": null,
   "id": "9ac90394",
   "metadata": {},
   "outputs": [],
   "source": [
    "from awscrt import io, mqtt, auth, http\n",
    "from awsiot import mqtt_connection_builder\n",
    "from pathlib import Path\n",
    "import time as t\n",
    "import json\n",
    "\n",
    "FILE_PATH = Path(\"../../Data/Raw/D202.csv\")\n",
    "ENDPOINT = \"a4lvmadg3sako-ats.iot.us-east-1.amazonaws.com\"\n",
    "CLIENT_ID = \"house_energy_comsuption\"\n",
    "PATH_TO_CERTIFICATE = Path(\"../../Data/Raw/Certificates/house_energy_comsuption.cert.pem\")\n",
    "PATH_TO_PRIVATE_KEY = Path(\"../../Data/Raw/Certificates/house_energy_comsuption.private.key\")\n",
    "PATH_TO_AMAZON_ROOT_CA_1 = Path(\"../../Data/Raw/Certificates/root-CA.crt\")\n",
    "\n",
    "TOPIC = \"house/comsuption\"\n"
   ]
  },
  {
   "cell_type": "code",
   "execution_count": null,
   "id": "4444a356",
   "metadata": {},
   "outputs": [],
   "source": [
    "def conexao_aws():\n",
    "    event_loop_group = io.EventLoopGroup(1)\n",
    "    host_resolver = io.DefaultHostResolver(event_loop_group)\n",
    "    client_bootstrap = io.ClientBootrstrap(event_loop_group, host_resolver)\n",
    "    connection_builder = mqtt_connection_builder.mtls_from_path(\n",
    "        endpoint=ENDPOINT,\n",
    "        cert_filepath=PATH_TO_CERTIFICATE,\n",
    "        ca_filepath=PATH_TO_AMAZON_ROOT_CA_1,\n",
    "        client_bootstrap=client_bootstrap,\n",
    "        client_id=CLIENT_ID,\n",
    "        clean_session=False,\n",
    "        keep_alive_secs=6)\n",
    "    \n",
    "    connection_future = connection_builder.connect()\n",
    "    connection_future.result()\n",
    "    return connection_future"
   ]
  },
  {
   "cell_type": "code",
   "execution_count": null,
   "id": "ef7ec0a9",
   "metadata": {},
   "outputs": [],
   "source": [
    "def lendo_entradas(linha_atual=0):\n",
    "    with open(FILE_PATH, \"r\") as dado:\n",
    "        dado.seek(linha_atual)\n",
    "        for linha in dado:\n",
    "            yield linha"
   ]
  },
  {
   "cell_type": "code",
   "execution_count": null,
   "id": "f6a57784",
   "metadata": {},
   "outputs": [],
   "source": [
    "if __name__ == \"__main__\":\n",
    "    read_line = 0\n",
    "    while True:\n",
    "        connection = conexao_aws()\n",
    "        for idx, line in enumerate(lendo_entradas(linha_atual=read_line)):\n",
    "            message = {\"data\": ,\n",
    "                      \"inicio\": ,\n",
    "                      \"fim\": ,\n",
    "                      \"consumo\": ,\n",
    "                      \"custo\": \n",
    "                      }\n",
    "            connection.publish(topic=TOPIC,\n",
    "                             payload=json.dumps(message),\n",
    "                             qos=QoS.AT_LEAST_ONCE)\n",
    "            t.sleep(.5)\n",
    "        read_line = idx\n",
    "        disconnect_future = connection.disconnect()\n",
    "        disconnect_future.result()\n",
    "        t.sleep(4)"
   ]
  }
 ],
 "metadata": {
  "kernelspec": {
   "display_name": "Python 3",
   "language": "python",
   "name": "python3"
  },
  "language_info": {
   "codemirror_mode": {
    "name": "ipython",
    "version": 3
   },
   "file_extension": ".py",
   "mimetype": "text/x-python",
   "name": "python",
   "nbconvert_exporter": "python",
   "pygments_lexer": "ipython3",
   "version": "3.8.8"
  }
 },
 "nbformat": 4,
 "nbformat_minor": 5
}
