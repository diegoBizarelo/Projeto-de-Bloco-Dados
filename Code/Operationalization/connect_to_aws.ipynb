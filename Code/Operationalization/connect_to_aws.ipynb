{
 "cells": [
  {
   "cell_type": "code",
   "execution_count": 1,
   "id": "9ac90394",
   "metadata": {},
   "outputs": [],
   "source": [
    "from awscrt import io, mqtt, auth, http\n",
    "from awsiot import mqtt_connection_builder\n",
    "from pathlib import Path\n",
    "import time as t\n",
    "import json\n",
    "\n",
    "FILE_PATH = Path(\"../../Data/Processed/energy_comsuption.csv\")\n",
    "ENDPOINT = \"a4lvmadg3sako-ats.iot.us-east-1.amazonaws.com\"\n",
    "CLIENT_ID = \"house_energy_comsuption\"\n",
    "PATH_TO_CERTIFICATE = \"house_energy_comsuption.cert.pem\"\n",
    "PATH_TO_PRIVATE_KEY = \"house_energy_comsuption.private.key\"\n",
    "PATH_TO_AMAZON_ROOT_CA_1 = \"root-CA.crt\"\n",
    "\n",
    "TOPIC = \"house/comsuption\"\n"
   ]
  },
  {
   "cell_type": "code",
   "execution_count": 2,
   "id": "4444a356",
   "metadata": {},
   "outputs": [],
   "source": [
    "def conexao_aws():\n",
    "    event_loop_group = io.EventLoopGroup(1)\n",
    "    host_resolver = io.DefaultHostResolver(event_loop_group)\n",
    "    client_bootstrap = io.ClientBootstrap(event_loop_group, host_resolver)\n",
    "    connection_builder = mqtt_connection_builder.mtls_from_path(\n",
    "        endpoint=ENDPOINT,\n",
    "        cert_filepath=PATH_TO_CERTIFICATE,\n",
    "        pri_key_filepath=PATH_TO_PRIVATE_KEY,\n",
    "        ca_filepath=PATH_TO_AMAZON_ROOT_CA_1,\n",
    "        client_bootstrap=client_bootstrap,\n",
    "        client_id=CLIENT_ID,\n",
    "        clean_session=False,\n",
    "        keep_alive_secs=6)\n",
    "    \n",
    "    connection_future = connection_builder.connect()\n",
    "    connection_future.result()\n",
    "    return connection_builder, connection_future"
   ]
  },
  {
   "cell_type": "code",
   "execution_count": 3,
   "id": "ef7ec0a9",
   "metadata": {},
   "outputs": [],
   "source": [
    "def lendo_entradas(linha_atual=0):\n",
    "    with open(FILE_PATH, \"r\") as dado:\n",
    "        dado.seek(linha_atual)\n",
    "        for linha in dado:\n",
    "            yield linha"
   ]
  },
  {
   "cell_type": "code",
   "execution_count": 8,
   "id": "f6a57784",
   "metadata": {},
   "outputs": [
    {
     "name": "stdout",
     "output_type": "stream",
     "text": [
      "{'DATA': '2016-10-22', 'COMSUPTION_KWH': '4.5200000000000005', 'COST': '0.6000000000000002', 'MOUNTH_GOAL': '300.0'}\n"
     ]
    },
    {
     "ename": "AwsCrtError",
     "evalue": "AWS_ERROR_MQTT_UNEXPECTED_HANGUP: The connection was closed unexpectedly.",
     "output_type": "error",
     "traceback": [
      "\u001b[1;31m---------------------------------------------------------------------------\u001b[0m",
      "\u001b[1;31mAwsCrtError\u001b[0m                               Traceback (most recent call last)",
      "\u001b[1;32m<ipython-input-8-511257036170>\u001b[0m in \u001b[0;36m<module>\u001b[1;34m\u001b[0m\n\u001b[0;32m      9\u001b[0m                   }\n\u001b[0;32m     10\u001b[0m         \u001b[0mprint\u001b[0m\u001b[1;33m(\u001b[0m\u001b[0mmessage\u001b[0m\u001b[1;33m)\u001b[0m\u001b[1;33m\u001b[0m\u001b[1;33m\u001b[0m\u001b[0m\n\u001b[1;32m---> 11\u001b[1;33m         \u001b[0mconnection\u001b[0m \u001b[1;33m=\u001b[0m \u001b[0mconexao_aws\u001b[0m\u001b[1;33m(\u001b[0m\u001b[1;33m)\u001b[0m\u001b[1;33m\u001b[0m\u001b[1;33m\u001b[0m\u001b[0m\n\u001b[0m\u001b[0;32m     12\u001b[0m         connection.publish(topic=TOPIC,\n\u001b[0;32m     13\u001b[0m                           \u001b[0mpayload\u001b[0m\u001b[1;33m=\u001b[0m\u001b[0mjson\u001b[0m\u001b[1;33m.\u001b[0m\u001b[0mdumps\u001b[0m\u001b[1;33m(\u001b[0m\u001b[0mmessage\u001b[0m\u001b[1;33m)\u001b[0m\u001b[1;33m,\u001b[0m\u001b[1;33m\u001b[0m\u001b[1;33m\u001b[0m\u001b[0m\n",
      "\u001b[1;32m<ipython-input-2-e7f616ccdaa1>\u001b[0m in \u001b[0;36mconexao_aws\u001b[1;34m()\u001b[0m\n\u001b[0;32m     14\u001b[0m \u001b[1;33m\u001b[0m\u001b[0m\n\u001b[0;32m     15\u001b[0m     \u001b[0mconnection_future\u001b[0m \u001b[1;33m=\u001b[0m \u001b[0mconnection_builder\u001b[0m\u001b[1;33m.\u001b[0m\u001b[0mconnect\u001b[0m\u001b[1;33m(\u001b[0m\u001b[1;33m)\u001b[0m\u001b[1;33m\u001b[0m\u001b[1;33m\u001b[0m\u001b[0m\n\u001b[1;32m---> 16\u001b[1;33m     \u001b[0mconnection_future\u001b[0m\u001b[1;33m.\u001b[0m\u001b[0mresult\u001b[0m\u001b[1;33m(\u001b[0m\u001b[1;33m)\u001b[0m\u001b[1;33m\u001b[0m\u001b[1;33m\u001b[0m\u001b[0m\n\u001b[0m\u001b[0;32m     17\u001b[0m     \u001b[1;32mreturn\u001b[0m \u001b[0mconnection_builder\u001b[0m\u001b[1;33m,\u001b[0m \u001b[0mconnection_future\u001b[0m\u001b[1;33m\u001b[0m\u001b[1;33m\u001b[0m\u001b[0m\n",
      "\u001b[1;32m~\\anaconda3\\lib\\concurrent\\futures\\_base.py\u001b[0m in \u001b[0;36mresult\u001b[1;34m(self, timeout)\u001b[0m\n\u001b[0;32m    437\u001b[0m                 \u001b[1;32mraise\u001b[0m \u001b[0mCancelledError\u001b[0m\u001b[1;33m(\u001b[0m\u001b[1;33m)\u001b[0m\u001b[1;33m\u001b[0m\u001b[1;33m\u001b[0m\u001b[0m\n\u001b[0;32m    438\u001b[0m             \u001b[1;32melif\u001b[0m \u001b[0mself\u001b[0m\u001b[1;33m.\u001b[0m\u001b[0m_state\u001b[0m \u001b[1;33m==\u001b[0m \u001b[0mFINISHED\u001b[0m\u001b[1;33m:\u001b[0m\u001b[1;33m\u001b[0m\u001b[1;33m\u001b[0m\u001b[0m\n\u001b[1;32m--> 439\u001b[1;33m                 \u001b[1;32mreturn\u001b[0m \u001b[0mself\u001b[0m\u001b[1;33m.\u001b[0m\u001b[0m__get_result\u001b[0m\u001b[1;33m(\u001b[0m\u001b[1;33m)\u001b[0m\u001b[1;33m\u001b[0m\u001b[1;33m\u001b[0m\u001b[0m\n\u001b[0m\u001b[0;32m    440\u001b[0m             \u001b[1;32melse\u001b[0m\u001b[1;33m:\u001b[0m\u001b[1;33m\u001b[0m\u001b[1;33m\u001b[0m\u001b[0m\n\u001b[0;32m    441\u001b[0m                 \u001b[1;32mraise\u001b[0m \u001b[0mTimeoutError\u001b[0m\u001b[1;33m(\u001b[0m\u001b[1;33m)\u001b[0m\u001b[1;33m\u001b[0m\u001b[1;33m\u001b[0m\u001b[0m\n",
      "\u001b[1;32m~\\anaconda3\\lib\\concurrent\\futures\\_base.py\u001b[0m in \u001b[0;36m__get_result\u001b[1;34m(self)\u001b[0m\n\u001b[0;32m    386\u001b[0m     \u001b[1;32mdef\u001b[0m \u001b[0m__get_result\u001b[0m\u001b[1;33m(\u001b[0m\u001b[0mself\u001b[0m\u001b[1;33m)\u001b[0m\u001b[1;33m:\u001b[0m\u001b[1;33m\u001b[0m\u001b[1;33m\u001b[0m\u001b[0m\n\u001b[0;32m    387\u001b[0m         \u001b[1;32mif\u001b[0m \u001b[0mself\u001b[0m\u001b[1;33m.\u001b[0m\u001b[0m_exception\u001b[0m\u001b[1;33m:\u001b[0m\u001b[1;33m\u001b[0m\u001b[1;33m\u001b[0m\u001b[0m\n\u001b[1;32m--> 388\u001b[1;33m             \u001b[1;32mraise\u001b[0m \u001b[0mself\u001b[0m\u001b[1;33m.\u001b[0m\u001b[0m_exception\u001b[0m\u001b[1;33m\u001b[0m\u001b[1;33m\u001b[0m\u001b[0m\n\u001b[0m\u001b[0;32m    389\u001b[0m         \u001b[1;32melse\u001b[0m\u001b[1;33m:\u001b[0m\u001b[1;33m\u001b[0m\u001b[1;33m\u001b[0m\u001b[0m\n\u001b[0;32m    390\u001b[0m             \u001b[1;32mreturn\u001b[0m \u001b[0mself\u001b[0m\u001b[1;33m.\u001b[0m\u001b[0m_result\u001b[0m\u001b[1;33m\u001b[0m\u001b[1;33m\u001b[0m\u001b[0m\n",
      "\u001b[1;31mAwsCrtError\u001b[0m: AWS_ERROR_MQTT_UNEXPECTED_HANGUP: The connection was closed unexpectedly."
     ]
    }
   ],
   "source": [
    "if __name__ == \"__main__\":\n",
    "    read_line=0\n",
    "    connection = conexao_aws()\n",
    "    for idx, line in enumerate(lendo_entradas(linha_atual=read_line)):\n",
    "        data = line.split(\",\")\n",
    "        message = {\"DATA\": data[0],\n",
    "                  \"COMSUPTION_KWH\": data[1],\n",
    "                  \"COST\": data[2],\n",
    "                  \"MOUNTH_GOAL\": data[3].rstrip('\\n'),\n",
    "                  }\n",
    "        print(message)\n",
    "        connection.publish(topic=TOPIC,\n",
    "                          payload=json.dumps(message),\n",
    "                          qos=QoS.AT_LEAST_ONCE)\n",
    "        t.sleep(.5)\n",
    "    disconnect_future = connection.disconnect()\n",
    "    disconnect_future.result()\n",
    "    t.sleep(4)"
   ]
  },
  {
   "cell_type": "code",
   "execution_count": null,
   "id": "b32c4a6f",
   "metadata": {},
   "outputs": [],
   "source": []
  }
 ],
 "metadata": {
  "kernelspec": {
   "display_name": "Python 3",
   "language": "python",
   "name": "python3"
  },
  "language_info": {
   "codemirror_mode": {
    "name": "ipython",
    "version": 3
   },
   "file_extension": ".py",
   "mimetype": "text/x-python",
   "name": "python",
   "nbconvert_exporter": "python",
   "pygments_lexer": "ipython3",
   "version": "3.8.8"
  }
 },
 "nbformat": 4,
 "nbformat_minor": 5
}
